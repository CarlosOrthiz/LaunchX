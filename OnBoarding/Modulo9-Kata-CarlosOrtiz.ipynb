{
 "cells": [
  {
   "cell_type": "markdown",
   "metadata": {},
   "source": [
    "### Modulo9-Kata-CarlosOrtiz"
   ]
  },
  {
   "cell_type": "markdown",
   "metadata": {},
   "source": [
    "### Ejercicio 1: Trabajar con argumentos en funciones"
   ]
  },
  {
   "cell_type": "code",
   "execution_count": 4,
   "metadata": {},
   "outputs": [
    {
     "name": "stdout",
     "output_type": "stream",
     "text": [
      "El promedio de las lecturas es 20.0\n"
     ]
    }
   ],
   "source": [
    "# Función para leer 3 tanques de combustible y muestre el promedio\n",
    "def lecturas_combustible(lec1, lec2, lec3):\n",
    "    promedio = (lec1 + lec2 + lec3) / 3\n",
    "    print(f\"El promedio de las lecturas es {promedio}\")\n",
    "\n",
    "\n",
    "lecturas_combustible(10, 20, 30)"
   ]
  },
  {
   "cell_type": "code",
   "execution_count": 5,
   "metadata": {},
   "outputs": [
    {
     "name": "stdout",
     "output_type": "stream",
     "text": [
      "El promedio de las lecturas es 20.0\n"
     ]
    }
   ],
   "source": [
    "# Llamamos a la función que genera el reporte print(funcion(tanque1, tanque2, tanque3))\n",
    "def lecturas_combustible(lec1, lec2, lec3):\n",
    "    promedio = (lec1 + lec2 + lec3) / 3\n",
    "    return promedio\n",
    "\n",
    "print(f\"El promedio de las lecturas es {lecturas_combustible(10, 20, 30)}\")"
   ]
  },
  {
   "cell_type": "code",
   "execution_count": 10,
   "metadata": {},
   "outputs": [
    {
     "data": {
      "text/plain": [
       "20.0"
      ]
     },
     "execution_count": 10,
     "metadata": {},
     "output_type": "execute_result"
    }
   ],
   "source": [
    "# Funcion que calcula el promedio\n",
    "def promedio(valores):\n",
    "    total = sum(valores)\n",
    "    numero_valores = len(valores)\n",
    "\n",
    "    promedio = total / numero_valores\n",
    "    return promedio\n",
    "\n",
    "promedio([10, 20, 30])\n"
   ]
  },
  {
   "cell_type": "code",
   "execution_count": 11,
   "metadata": {},
   "outputs": [
    {
     "name": "stdout",
     "output_type": "stream",
     "text": [
      "El promedio de las lecturas es 20.0\n"
     ]
    }
   ],
   "source": [
    "# Funcion que genera el reporte\n",
    "def genera_informe(lec1, lec2, lec3):\n",
    "    prom = promedio([lec1, lec2, lec3])\n",
    "\n",
    "    print(f\"El promedio de las lecturas es {prom}\")\n",
    "\n",
    "genera_informe(10, 20, 30)"
   ]
  },
  {
   "cell_type": "markdown",
   "metadata": {},
   "source": [
    "### Ejercicio 2: Trabajar con argumentos de palabras clave en funciones"
   ]
  },
  {
   "cell_type": "code",
   "execution_count": 17,
   "metadata": {},
   "outputs": [
    {
     "name": "stdout",
     "output_type": "stream",
     "text": [
      "La hora de prelanzamiento es: 10 \n",
      "    Tiempo de vuelo: 11   \n",
      "    Destino: LA \n",
      "    Tanque externo: 12 \n",
      "    Tanque interno: 13 \n"
     ]
    }
   ],
   "source": [
    "# Función con un informe preciso de la misión. Considera hora de prelanzamiento, \n",
    "# tiempo de vuelo, destino, tanque externo y tanque interno\n",
    "\n",
    "def informe_mision(hora_prelanzamiento, tiempo_vuelo, destino, tanque_ext, tanque_int):\n",
    "    return f\"\"\"La hora de prelanzamiento: {hora_prelanzamiento} \n",
    "    Tiempo de vuelo: {tiempo_vuelo}   \n",
    "    Destino: {destino} \n",
    "    Tanque externo: {tanque_ext} \n",
    "    Tanque interno: {tanque_int} \"\"\"\n",
    "\n",
    "print(informe_mision(10, 11, \"LA\", 12, 13)) "
   ]
  },
  {
   "cell_type": "code",
   "execution_count": 20,
   "metadata": {},
   "outputs": [
    {
     "name": "stdout",
     "output_type": "stream",
     "text": [
      "Destino: Moon\n",
      "    Tiempo de vuelo: 74\n",
      "    Combustible: 500000 \n"
     ]
    }
   ],
   "source": [
    "# Escribe tu nueva función de reporte considerando lo anterior\n",
    "def informe_mision(destino, *minutos, **combustible):\n",
    "    return f\"\"\"Destino: {destino}\n",
    "    Tiempo de vuelo: {sum(minutos)}\n",
    "    Combustible: {sum(combustible.values())} \"\"\"\n",
    " \n",
    "print(informe_mision(\"Moon\", 8, 11, 55, main=300000, external=200000))"
   ]
  },
  {
   "cell_type": "code",
   "execution_count": 21,
   "metadata": {},
   "outputs": [
    {
     "name": "stdout",
     "output_type": "stream",
     "text": [
      "Destino: Moon\n",
      "    Tiempo de vuelo: 74\n",
      "    Combustible: 500000 main tanque --> 300000 galones \n",
      "external tanque --> 200000 galones \n",
      "\n"
     ]
    }
   ],
   "source": [
    "# Escribe tu nueva función\n",
    "def informe_mision(destino, *minutos, **combustible):\n",
    "    reporte = f\"\"\"Destino: {destino}\n",
    "    Tiempo de vuelo: {sum(minutos)}\n",
    "    Combustible: {sum(combustible.values())} \"\"\"\n",
    "\n",
    "    for tanque, galones in combustible.items():\n",
    "        reporte += f\"{tanque} tanque --> {galones} galones \\n\"\n",
    "    return reporte\n",
    "\n",
    "print(informe_mision(\"Moon\", 8, 11, 55, main=300000, external=200000))"
   ]
  }
 ],
 "metadata": {
  "interpreter": {
   "hash": "ac5c52a605b5509b9f9fba12e543c682001a1c0c88de98befa057422b9e1ffca"
  },
  "kernelspec": {
   "display_name": "Python 3.10.2 64-bit",
   "language": "python",
   "name": "python3"
  },
  "language_info": {
   "codemirror_mode": {
    "name": "ipython",
    "version": 3
   },
   "file_extension": ".py",
   "mimetype": "text/x-python",
   "name": "python",
   "nbconvert_exporter": "python",
   "pygments_lexer": "ipython3",
   "version": "3.10.2"
  },
  "orig_nbformat": 4
 },
 "nbformat": 4,
 "nbformat_minor": 2
}
