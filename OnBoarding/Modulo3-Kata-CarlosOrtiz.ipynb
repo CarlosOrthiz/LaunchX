{
 "cells": [
  {
   "cell_type": "markdown",
   "metadata": {},
   "source": [
    "### Modulo3-Kata-CarlosOrtiz"
   ]
  },
  {
   "cell_type": "markdown",
   "metadata": {},
   "source": [
    "### Ejercicio 1"
   ]
  },
  {
   "cell_type": "code",
   "execution_count": null,
   "metadata": {},
   "outputs": [],
   "source": [
    "velocidad_asteroide = 49\n",
    "\n",
    "if velocidad_asteroide > 25:\n",
    "    print(\"Advertencia! Un asteriode se acerca a la Tierra demasiado rapido.\")\n",
    "        \n",
    "else:\n",
    "    print(\"No hay asteriodes detectados\")"
   ]
  },
  {
   "cell_type": "markdown",
   "metadata": {},
   "source": [
    "### Ejercicio 2"
   ]
  },
  {
   "cell_type": "code",
   "execution_count": null,
   "metadata": {},
   "outputs": [],
   "source": [
    "velocidad_asteroide = 19\n",
    "\n",
    "if velocidad_asteroide > 20:\n",
    "    print(\"Asteroide produce un rayo de luz visible desde la Tierra.\")\n",
    "elif velocidad_asteroide == 20:\n",
    "    print(\"Asteroide produce un rayo de luz visible desde la Tierra.\")\n",
    "else:\n",
    "    print(\"No hay asteriodes visibles en el cielo.\")"
   ]
  },
  {
   "cell_type": "markdown",
   "metadata": {},
   "source": [
    "### Ejercicio 3"
   ]
  },
  {
   "cell_type": "code",
   "execution_count": 25,
   "metadata": {},
   "outputs": [
    {
     "name": "stdout",
     "output_type": "stream",
     "text": [
      "Asteroide produce un rayo de luz visible desde la Tierra.\n"
     ]
    }
   ],
   "source": [
    "dimension = 0 # Menor a 25 metros se quema en la atmosfera\n",
    "velocidad_asteroide = 110\n",
    "\n",
    "# Asteroide mayor a 25 metros y menor a 1000 metros golpeará a la Tierra\n",
    "if velocidad_asteroide > 25 and dimension > 25:\n",
    "    print(\"Alerta! Un asteroide se acerca peligrosamente a la Tierra\")\n",
    "elif velocidad_asteroide >= 20:\n",
    "    print(\"Asteroide produce un rayo de luz visible desde la Tierra.\")\n",
    "elif dimension < 25:\n",
    "    print(\"No hay asteroides visibles en el cielo.\")\n",
    "else:\n",
    "    print(\"No hay asteroides visibles en el cielo.\")"
   ]
  },
  {
   "cell_type": "markdown",
   "metadata": {},
   "source": [
    "### Ejercicio 3: variante"
   ]
  },
  {
   "cell_type": "code",
   "execution_count": 26,
   "metadata": {},
   "outputs": [
    {
     "name": "stdout",
     "output_type": "stream",
     "text": [
      "Alerta! Un asteroide se acerca peligrosamente a la Tierra\n"
     ]
    }
   ],
   "source": [
    "dimension = 0 # Menor a 25 metros se quema en la atmosfera\n",
    "velocidad_asteroide = 110\n",
    "\n",
    "# Asteroide mayor a 25 metros y menor a 1000 metros golpeará a la Tierra\n",
    "if velocidad_asteroide > 25:\n",
    "    if dimension >= 25 and dimension < 1000:\n",
    "        print(\"Alerta! Un asteroide se acerca peligrosamente a la Tierra y podria causar mucho daño.\")\n",
    "    else:\n",
    "        print(\"Alerta! Un asteroide se acerca a la Tierra\")\n",
    "elif velocidad_asteroide >= 20:\n",
    "    print(\"Asteroide produce un rayo de luz visible desde la Tierra.\")\n",
    "elif dimension < 25:\n",
    "    print(\"No hay asteroides visibles en el cielo.\")\n",
    "else:\n",
    "    print(\"No hay asteroides visibles en el cielo.\")"
   ]
  }
 ],
 "metadata": {
  "interpreter": {
   "hash": "ac5c52a605b5509b9f9fba12e543c682001a1c0c88de98befa057422b9e1ffca"
  },
  "kernelspec": {
   "display_name": "Python 3.10.2 64-bit",
   "language": "python",
   "name": "python3"
  },
  "language_info": {
   "codemirror_mode": {
    "name": "ipython",
    "version": 3
   },
   "file_extension": ".py",
   "mimetype": "text/x-python",
   "name": "python",
   "nbconvert_exporter": "python",
   "pygments_lexer": "ipython3",
   "version": "3.10.2"
  },
  "orig_nbformat": 4
 },
 "nbformat": 4,
 "nbformat_minor": 2
}
